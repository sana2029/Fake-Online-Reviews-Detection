{
 "cells": [
  {
   "cell_type": "markdown",
   "metadata": {},
   "source": [
    "## IMPORTING LIBRARIES"
   ]
  },
  {
   "cell_type": "code",
   "execution_count": 32,
   "metadata": {},
   "outputs": [],
   "source": [
    "import numpy as np\n",
    "import pandas as pd\n",
    "import seaborn as sns\n",
    "import matplotlib.pyplot as plt\n",
    "from matplotlib import style\n",
    "style.use('ggplot')\n",
    "%matplotlib inline\n",
    "sns.set_style(\"whitegrid\")\n",
    "sns.set_context(\"poster\")"
   ]
  },
  {
   "cell_type": "markdown",
   "metadata": {},
   "source": [
    "## ML ALGORITHMS ###"
   ]
  },
  {
   "cell_type": "code",
   "execution_count": 33,
   "metadata": {},
   "outputs": [],
   "source": [
    "from sklearn.ensemble import RandomForestClassifier\n",
    "from sklearn.tree import DecisionTreeClassifier\n",
    "from sklearn.linear_model import LogisticRegression\n",
    "from sklearn.svm import SVC\n",
    "from sklearn.neighbors import KNeighborsClassifier\n",
    "from sklearn.feature_extraction.text import CountVectorizer"
   ]
  },
  {
   "cell_type": "markdown",
   "metadata": {},
   "source": [
    "## BUILDING MODELS ##"
   ]
  },
  {
   "cell_type": "code",
   "execution_count": 34,
   "metadata": {},
   "outputs": [],
   "source": [
    "from sklearn.model_selection import train_test_split"
   ]
  },
  {
   "cell_type": "markdown",
   "metadata": {},
   "source": [
    "## FOR MEASURING METRICS##"
   ]
  },
  {
   "cell_type": "code",
   "execution_count": 35,
   "metadata": {},
   "outputs": [],
   "source": [
    "from sklearn.metrics import classification_report\n",
    "from sklearn.metrics import confusion_matrix,ConfusionMatrixDisplay\n",
    "from sklearn.metrics import accuracy_score"
   ]
  },
  {
   "cell_type": "markdown",
   "metadata": {},
   "source": [
    "## IGNORE WARNINGS ##"
   ]
  },
  {
   "cell_type": "code",
   "execution_count": 36,
   "metadata": {},
   "outputs": [],
   "source": [
    "import warnings\n",
    "warnings.filterwarnings('ignore')"
   ]
  },
  {
   "cell_type": "markdown",
   "metadata": {},
   "source": [
    "## LOAD THE DATASET## "
   ]
  },
  {
   "cell_type": "code",
   "execution_count": 37,
   "metadata": {},
   "outputs": [
    {
     "name": "stdout",
     "output_type": "stream",
     "text": [
      "               category  rating label  \\\n",
      "0    Home_and_Kitchen_5     5.0    CG   \n",
      "1    Home_and_Kitchen_5     5.0    CG   \n",
      "2    Home_and_Kitchen_5     5.0    CG   \n",
      "3    Home_and_Kitchen_5     1.0    CG   \n",
      "4    Home_and_Kitchen_5     5.0    CG   \n",
      "5    Home_and_Kitchen_5     3.0    CG   \n",
      "6    Home_and_Kitchen_5     5.0    CG   \n",
      "7    Home_and_Kitchen_5     3.0    CG   \n",
      "8    Home_and_Kitchen_5     5.0    CG   \n",
      "9    Home_and_Kitchen_5     5.0    CG   \n",
      "10   Home_and_Kitchen_5     5.0    CG   \n",
      "11   Home_and_Kitchen_5     5.0    CG   \n",
      "12   Home_and_Kitchen_5     5.0    CG   \n",
      "13   Home_and_Kitchen_5     1.0    CG   \n",
      "14   Home_and_Kitchen_5     5.0    CG   \n",
      "15   Home_and_Kitchen_5     5.0    CG   \n",
      "16   Home_and_Kitchen_5     5.0    CG   \n",
      "17   Home_and_Kitchen_5     5.0    CG   \n",
      "18   Home_and_Kitchen_5     5.0    CG   \n",
      "19   Home_and_Kitchen_5     5.0    CG   \n",
      "20   Home_and_Kitchen_5     5.0    CG   \n",
      "21   Home_and_Kitchen_5     5.0    CG   \n",
      "22   Home_and_Kitchen_5     5.0    CG   \n",
      "23   Home_and_Kitchen_5     5.0    CG   \n",
      "24   Home_and_Kitchen_5     5.0    CG   \n",
      "25   Home_and_Kitchen_5     5.0    CG   \n",
      "26   Home_and_Kitchen_5     2.0    CG   \n",
      "27   Home_and_Kitchen_5     5.0    CG   \n",
      "28   Home_and_Kitchen_5     5.0    CG   \n",
      "29   Home_and_Kitchen_5     5.0    CG   \n",
      "..                  ...     ...   ...   \n",
      "442  Home_and_Kitchen_5     5.0    OR   \n",
      "443  Home_and_Kitchen_5     5.0    OR   \n",
      "444  Home_and_Kitchen_5     5.0    OR   \n",
      "445  Home_and_Kitchen_5     5.0    OR   \n",
      "446  Home_and_Kitchen_5     5.0    OR   \n",
      "447  Home_and_Kitchen_5     3.0    OR   \n",
      "448  Home_and_Kitchen_5     5.0    OR   \n",
      "449  Home_and_Kitchen_5     5.0    OR   \n",
      "450  Home_and_Kitchen_5     5.0    OR   \n",
      "451  Home_and_Kitchen_5     5.0    OR   \n",
      "452  Home_and_Kitchen_5     4.0    OR   \n",
      "453  Home_and_Kitchen_5     4.0    OR   \n",
      "454  Home_and_Kitchen_5     5.0    OR   \n",
      "455  Home_and_Kitchen_5     5.0    OR   \n",
      "456  Home_and_Kitchen_5     5.0    OR   \n",
      "457  Home_and_Kitchen_5     4.0    OR   \n",
      "458  Home_and_Kitchen_5     4.0    OR   \n",
      "459  Home_and_Kitchen_5     5.0    OR   \n",
      "460  Home_and_Kitchen_5     5.0    OR   \n",
      "461  Home_and_Kitchen_5     4.0    OR   \n",
      "462  Home_and_Kitchen_5     4.0    OR   \n",
      "463  Home_and_Kitchen_5     3.0    OR   \n",
      "464  Home_and_Kitchen_5     5.0    OR   \n",
      "465  Home_and_Kitchen_5     5.0    OR   \n",
      "466  Home_and_Kitchen_5     3.0    OR   \n",
      "467  Home_and_Kitchen_5     5.0    OR   \n",
      "468  Home_and_Kitchen_5     5.0    OR   \n",
      "469  Home_and_Kitchen_5     5.0    OR   \n",
      "470  Home_and_Kitchen_5     5.0    OR   \n",
      "471  Home_and_Kitchen_5     5.0    OR   \n",
      "\n",
      "                                                 text_  \n",
      "0    Love this!  Well made, sturdy, and very comfor...  \n",
      "1    love it, a great upgrade from the original.  I...  \n",
      "2    This pillow saved my back. I love the look and...  \n",
      "3    Missing information on how to use it, but it i...  \n",
      "4    Very nice set. Good quality. We have had the s...  \n",
      "5         I WANTED DIFFERENT FLAVORS BUT THEY ARE NOT.  \n",
      "6    They are the perfect touch for me and the only...  \n",
      "7    These done fit well and look great.  I love th...  \n",
      "8    Great big numbers & easy to read, the only thi...  \n",
      "9    My son loves this comforter and it is very wel...  \n",
      "10   As advertised. 5th one I've had. The only prob...  \n",
      "11   Very handy for one of my kids and the tools ar...  \n",
      "12   Did someone say, \"Oriental for $60\"?  It is a ...  \n",
      "13   These are so flimsy! They are not the quality ...  \n",
      "14   Makes may tea with out stirring. The only prob...  \n",
      "15   Absolutely adorable! And excellent price. We h...  \n",
      "16   Love this!  Perfect size for an entire family!...  \n",
      "17   These look beautiful and so nice. The only pro...  \n",
      "18   Exactly what you would expect. I love the look...  \n",
      "19   10 Stars, I would highly recommend this item. ...  \n",
      "20   Great little egg masher.  We have had it for a...  \n",
      "21   As advertised.  Easy to use.  Love the colors....  \n",
      "22   it is exactly as pictured. I love the look and...  \n",
      "23   Fantastic, just what I wanted!!!  I love the l...  \n",
      "24   Supposed to come with extra hardware. The only...  \n",
      "25   Easy to use. Seems to be an easy way to make a...  \n",
      "26   Not what I am accustomed to. The only reason I...  \n",
      "27   Nice product & seller. Yes, it is a very thin ...  \n",
      "28   So good we bought the second set and they look...  \n",
      "29   Wonderful aroma throughout the house.  The onl...  \n",
      "..                                                 ...  \n",
      "442  Soft, soft, soft.  We love them.  We would ord...  \n",
      "443  Perfect small scale! Easy to use and compact s...  \n",
      "444  I love this pitcher! Perfect for tea and it do...  \n",
      "445  every bit as good as the name brand; do not he...  \n",
      "446  Perfect size for my kitchen.  Easy to assemble...  \n",
      "447  Didn't really help make a difference.  Must be...  \n",
      "448  These hooks are gorgeous! They really add an e...  \n",
      "449  Love the color. Love that it is lightweight.\\n...  \n",
      "450  This item's bulky for a small apartment counte...  \n",
      "451  Love, love, love this coffee maker. It is the ...  \n",
      "452  Works well even when only partially submerged....  \n",
      "453  Went together OK and looks good in the corner....  \n",
      "454  You rarely have to use the AC if you live some...  \n",
      "455  GIFT FOR HUSBAND, HAS SHARPENED EVERY KNIFE IN...  \n",
      "456  These are nice towels. Absorbs well.\\nGetting ...  \n",
      "457  Nice product have not had much experience with...  \n",
      "458  Plastic a little flimsy but it does hold many ...  \n",
      "459  This knife sharpener works really well I also ...  \n",
      "460  This product is sturdy and has a nice design. ...  \n",
      "461  Decent for the price. I am using it behind my ...  \n",
      "462  Definitely not water proof but worth the price...  \n",
      "463  Very nice but you have to be careful in handli...  \n",
      "464  Had a mismatched header vs bed frame.  This wo...  \n",
      "465  It was a gift for my daughter and she said it ...  \n",
      "466  kind of cheap, really thin metal, does the tri...  \n",
      "467  Love this product, wish it had built in razor ...  \n",
      "468  cute - my granddaughter is 3 & has it in her p...  \n",
      "469  A gift for my granddaughter after she saw mine...  \n",
      "470  This worked great for my skin and my hair! Def...  \n",
      "471  Simply put, they are fantastic.  Very happy wi...  \n",
      "\n",
      "[472 rows x 4 columns]\n",
      "size of the dataset: (472, 4)\n"
     ]
    },
    {
     "data": {
      "text/html": [
       "<div>\n",
       "<style scoped>\n",
       "    .dataframe tbody tr th:only-of-type {\n",
       "        vertical-align: middle;\n",
       "    }\n",
       "\n",
       "    .dataframe tbody tr th {\n",
       "        vertical-align: top;\n",
       "    }\n",
       "\n",
       "    .dataframe thead th {\n",
       "        text-align: right;\n",
       "    }\n",
       "</style>\n",
       "<table border=\"1\" class=\"dataframe\">\n",
       "  <thead>\n",
       "    <tr style=\"text-align: right;\">\n",
       "      <th></th>\n",
       "      <th>category</th>\n",
       "      <th>rating</th>\n",
       "      <th>label</th>\n",
       "      <th>text_</th>\n",
       "    </tr>\n",
       "  </thead>\n",
       "  <tbody>\n",
       "    <tr>\n",
       "      <th>0</th>\n",
       "      <td>Home_and_Kitchen_5</td>\n",
       "      <td>5.0</td>\n",
       "      <td>CG</td>\n",
       "      <td>Love this!  Well made, sturdy, and very comfor...</td>\n",
       "    </tr>\n",
       "    <tr>\n",
       "      <th>1</th>\n",
       "      <td>Home_and_Kitchen_5</td>\n",
       "      <td>5.0</td>\n",
       "      <td>CG</td>\n",
       "      <td>love it, a great upgrade from the original.  I...</td>\n",
       "    </tr>\n",
       "    <tr>\n",
       "      <th>2</th>\n",
       "      <td>Home_and_Kitchen_5</td>\n",
       "      <td>5.0</td>\n",
       "      <td>CG</td>\n",
       "      <td>This pillow saved my back. I love the look and...</td>\n",
       "    </tr>\n",
       "    <tr>\n",
       "      <th>3</th>\n",
       "      <td>Home_and_Kitchen_5</td>\n",
       "      <td>1.0</td>\n",
       "      <td>CG</td>\n",
       "      <td>Missing information on how to use it, but it i...</td>\n",
       "    </tr>\n",
       "    <tr>\n",
       "      <th>4</th>\n",
       "      <td>Home_and_Kitchen_5</td>\n",
       "      <td>5.0</td>\n",
       "      <td>CG</td>\n",
       "      <td>Very nice set. Good quality. We have had the s...</td>\n",
       "    </tr>\n",
       "  </tbody>\n",
       "</table>\n",
       "</div>"
      ],
      "text/plain": [
       "             category  rating label  \\\n",
       "0  Home_and_Kitchen_5     5.0    CG   \n",
       "1  Home_and_Kitchen_5     5.0    CG   \n",
       "2  Home_and_Kitchen_5     5.0    CG   \n",
       "3  Home_and_Kitchen_5     1.0    CG   \n",
       "4  Home_and_Kitchen_5     5.0    CG   \n",
       "\n",
       "                                               text_  \n",
       "0  Love this!  Well made, sturdy, and very comfor...  \n",
       "1  love it, a great upgrade from the original.  I...  \n",
       "2  This pillow saved my back. I love the look and...  \n",
       "3  Missing information on how to use it, but it i...  \n",
       "4  Very nice set. Good quality. We have had the s...  "
      ]
     },
     "execution_count": 37,
     "metadata": {},
     "output_type": "execute_result"
    }
   ],
   "source": [
    "df=pd.read_csv(\"fakeonlinereviews.csv\")\n",
    "print(df)\n",
    "##check if the data is properly loaded\n",
    "print(\"size of the dataset:\",df.shape)\n",
    "df.head()"
   ]
  },
  {
   "cell_type": "code",
   "execution_count": 38,
   "metadata": {},
   "outputs": [],
   "source": [
    "df.dropna(inplace=True)"
   ]
  },
  {
   "cell_type": "code",
   "execution_count": 39,
   "metadata": {
    "scrolled": true
   },
   "outputs": [
    {
     "name": "stdout",
     "output_type": "stream",
     "text": [
      "<class 'pandas.core.frame.DataFrame'>\n",
      "Int64Index: 472 entries, 0 to 471\n",
      "Data columns (total 4 columns):\n",
      "category    472 non-null object\n",
      "rating      472 non-null float64\n",
      "label       472 non-null object\n",
      "text_       472 non-null object\n",
      "dtypes: float64(1), object(3)\n",
      "memory usage: 18.4+ KB\n"
     ]
    }
   ],
   "source": [
    "##list the columns along with type\n",
    "df.info()"
   ]
  },
  {
   "cell_type": "markdown",
   "metadata": {},
   "source": [
    "## EXPLORE THE DATASET##"
   ]
  },
  {
   "cell_type": "code",
   "execution_count": 40,
   "metadata": {},
   "outputs": [
    {
     "data": {
      "text/plain": [
       "category    0\n",
       "rating      0\n",
       "label       0\n",
       "text_       0\n",
       "dtype: int64"
      ]
     },
     "execution_count": 40,
     "metadata": {},
     "output_type": "execute_result"
    }
   ],
   "source": [
    "#summarizes the data\n",
    "df.describe()\n",
    "df.isnull().sum()"
   ]
  },
  {
   "cell_type": "code",
   "execution_count": 41,
   "metadata": {},
   "outputs": [],
   "source": [
    "df['length'] = df['text_'].apply(len)"
   ]
  },
  {
   "cell_type": "code",
   "execution_count": 42,
   "metadata": {},
   "outputs": [
    {
     "data": {
      "image/png": "[encoded data removed]",
      "text/plain": [
       "<Figure size 432x288 with 1 Axes>"
      ]
     },
     "metadata": {},
     "output_type": "display_data"
    }
   ],
   "source": [
    "plt.hist(df['length'],bins=20)\n",
    "plt.show()"
   ]
  },
  {
   "cell_type": "code",
   "execution_count": 43,
   "metadata": {},
   "outputs": [
    {
     "data": {
      "text/html": [
       "<div>\n",
       "<style scoped>\n",
       "    .dataframe tbody tr th:only-of-type {\n",
       "        vertical-align: middle;\n",
       "    }\n",
       "\n",
       "    .dataframe tbody tr th {\n",
       "        vertical-align: top;\n",
       "    }\n",
       "\n",
       "    .dataframe thead tr th {\n",
       "        text-align: left;\n",
       "    }\n",
       "\n",
       "    .dataframe thead tr:last-of-type th {\n",
       "        text-align: right;\n",
       "    }\n",
       "</style>\n",
       "<table border=\"1\" class=\"dataframe\">\n",
       "  <thead>\n",
       "    <tr>\n",
       "      <th></th>\n",
       "      <th colspan=\"8\" halign=\"left\">length</th>\n",
       "      <th colspan=\"8\" halign=\"left\">rating</th>\n",
       "    </tr>\n",
       "    <tr>\n",
       "      <th></th>\n",
       "      <th>count</th>\n",
       "      <th>mean</th>\n",
       "      <th>std</th>\n",
       "      <th>min</th>\n",
       "      <th>25%</th>\n",
       "      <th>50%</th>\n",
       "      <th>75%</th>\n",
       "      <th>max</th>\n",
       "      <th>count</th>\n",
       "      <th>mean</th>\n",
       "      <th>std</th>\n",
       "      <th>min</th>\n",
       "      <th>25%</th>\n",
       "      <th>50%</th>\n",
       "      <th>75%</th>\n",
       "      <th>max</th>\n",
       "    </tr>\n",
       "    <tr>\n",
       "      <th>label</th>\n",
       "      <th></th>\n",
       "      <th></th>\n",
       "      <th></th>\n",
       "      <th></th>\n",
       "      <th></th>\n",
       "      <th></th>\n",
       "      <th></th>\n",
       "      <th></th>\n",
       "      <th></th>\n",
       "      <th></th>\n",
       "      <th></th>\n",
       "      <th></th>\n",
       "      <th></th>\n",
       "      <th></th>\n",
       "      <th></th>\n",
       "      <th></th>\n",
       "    </tr>\n",
       "  </thead>\n",
       "  <tbody>\n",
       "    <tr>\n",
       "      <th>CG</th>\n",
       "      <td>242.0</td>\n",
       "      <td>80.012397</td>\n",
       "      <td>10.131288</td>\n",
       "      <td>44.0</td>\n",
       "      <td>74.0</td>\n",
       "      <td>82.0</td>\n",
       "      <td>87.0</td>\n",
       "      <td>102.0</td>\n",
       "      <td>242.0</td>\n",
       "      <td>4.359504</td>\n",
       "      <td>1.187282</td>\n",
       "      <td>1.0</td>\n",
       "      <td>4.0</td>\n",
       "      <td>5.0</td>\n",
       "      <td>5.0</td>\n",
       "      <td>5.0</td>\n",
       "    </tr>\n",
       "    <tr>\n",
       "      <th>OR</th>\n",
       "      <td>230.0</td>\n",
       "      <td>62.126087</td>\n",
       "      <td>11.147550</td>\n",
       "      <td>31.0</td>\n",
       "      <td>54.0</td>\n",
       "      <td>61.5</td>\n",
       "      <td>70.0</td>\n",
       "      <td>92.0</td>\n",
       "      <td>230.0</td>\n",
       "      <td>4.365217</td>\n",
       "      <td>1.143277</td>\n",
       "      <td>1.0</td>\n",
       "      <td>4.0</td>\n",
       "      <td>5.0</td>\n",
       "      <td>5.0</td>\n",
       "      <td>5.0</td>\n",
       "    </tr>\n",
       "  </tbody>\n",
       "</table>\n",
       "</div>"
      ],
      "text/plain": [
       "      length                                                      rating  \\\n",
       "       count       mean        std   min   25%   50%   75%    max  count   \n",
       "label                                                                      \n",
       "CG     242.0  80.012397  10.131288  44.0  74.0  82.0  87.0  102.0  242.0   \n",
       "OR     230.0  62.126087  11.147550  31.0  54.0  61.5  70.0   92.0  230.0   \n",
       "\n",
       "                                                    \n",
       "           mean       std  min  25%  50%  75%  max  \n",
       "label                                               \n",
       "CG     4.359504  1.187282  1.0  4.0  5.0  5.0  5.0  \n",
       "OR     4.365217  1.143277  1.0  4.0  5.0  5.0  5.0  "
      ]
     },
     "execution_count": 43,
     "metadata": {},
     "output_type": "execute_result"
    }
   ],
   "source": [
    "df.groupby('label').describe()"
   ]
  },
  {
   "cell_type": "code",
   "execution_count": 44,
   "metadata": {
    "scrolled": true
   },
   "outputs": [
    {
     "data": {
      "image/png": "[encoded data removed]",
      "text/plain": [
       "<Figure size 1080x216 with 2 Axes>"
      ]
     },
     "metadata": {},
     "output_type": "display_data"
    }
   ],
   "source": [
    "df.hist(column='length',by='label',bins=20,color='red',figsize=(15,3))\n",
    "plt.show()"
   ]
  },
  {
   "cell_type": "code",
   "execution_count": 45,
   "metadata": {},
   "outputs": [
    {
     "data": {
      "text/html": [
       "<div>\n",
       "<style scoped>\n",
       "    .dataframe tbody tr th:only-of-type {\n",
       "        vertical-align: middle;\n",
       "    }\n",
       "\n",
       "    .dataframe tbody tr th {\n",
       "        vertical-align: top;\n",
       "    }\n",
       "\n",
       "    .dataframe thead th {\n",
       "        text-align: right;\n",
       "    }\n",
       "</style>\n",
       "<table border=\"1\" class=\"dataframe\">\n",
       "  <thead>\n",
       "    <tr style=\"text-align: right;\">\n",
       "      <th></th>\n",
       "      <th>category</th>\n",
       "      <th>rating</th>\n",
       "      <th>label</th>\n",
       "      <th>text_</th>\n",
       "      <th>length</th>\n",
       "    </tr>\n",
       "  </thead>\n",
       "  <tbody>\n",
       "    <tr>\n",
       "      <th>0</th>\n",
       "      <td>NaN</td>\n",
       "      <td>NaN</td>\n",
       "      <td>NaN</td>\n",
       "      <td>NaN</td>\n",
       "      <td>NaN</td>\n",
       "    </tr>\n",
       "    <tr>\n",
       "      <th>1</th>\n",
       "      <td>NaN</td>\n",
       "      <td>NaN</td>\n",
       "      <td>NaN</td>\n",
       "      <td>NaN</td>\n",
       "      <td>NaN</td>\n",
       "    </tr>\n",
       "    <tr>\n",
       "      <th>2</th>\n",
       "      <td>NaN</td>\n",
       "      <td>NaN</td>\n",
       "      <td>NaN</td>\n",
       "      <td>NaN</td>\n",
       "      <td>NaN</td>\n",
       "    </tr>\n",
       "    <tr>\n",
       "      <th>3</th>\n",
       "      <td>NaN</td>\n",
       "      <td>NaN</td>\n",
       "      <td>NaN</td>\n",
       "      <td>NaN</td>\n",
       "      <td>NaN</td>\n",
       "    </tr>\n",
       "    <tr>\n",
       "      <th>4</th>\n",
       "      <td>NaN</td>\n",
       "      <td>NaN</td>\n",
       "      <td>NaN</td>\n",
       "      <td>NaN</td>\n",
       "      <td>NaN</td>\n",
       "    </tr>\n",
       "  </tbody>\n",
       "</table>\n",
       "</div>"
      ],
      "text/plain": [
       "  category  rating label text_  length\n",
       "0      NaN     NaN   NaN   NaN     NaN\n",
       "1      NaN     NaN   NaN   NaN     NaN\n",
       "2      NaN     NaN   NaN   NaN     NaN\n",
       "3      NaN     NaN   NaN   NaN     NaN\n",
       "4      NaN     NaN   NaN   NaN     NaN"
      ]
     },
     "execution_count": 45,
     "metadata": {},
     "output_type": "execute_result"
    }
   ],
   "source": [
    "checkNULL=df.isnull()\n",
    "df[checkNULL].head()"
   ]
  },
  {
   "cell_type": "code",
   "execution_count": 46,
   "metadata": {},
   "outputs": [
    {
     "data": {
      "text/plain": [
       "count    472.000000\n",
       "mean      71.296610\n",
       "std       13.893779\n",
       "min       31.000000\n",
       "25%       60.000000\n",
       "50%       71.500000\n",
       "75%       83.000000\n",
       "max      102.000000\n",
       "Name: length, dtype: float64"
      ]
     },
     "execution_count": 46,
     "metadata": {},
     "output_type": "execute_result"
    }
   ],
   "source": [
    "df.length.describe()\n"
   ]
  },
  {
   "cell_type": "code",
   "execution_count": 47,
   "metadata": {},
   "outputs": [
    {
     "data": {
      "text/html": [
       "<div>\n",
       "<style scoped>\n",
       "    .dataframe tbody tr th:only-of-type {\n",
       "        vertical-align: middle;\n",
       "    }\n",
       "\n",
       "    .dataframe tbody tr th {\n",
       "        vertical-align: top;\n",
       "    }\n",
       "\n",
       "    .dataframe thead th {\n",
       "        text-align: right;\n",
       "    }\n",
       "</style>\n",
       "<table border=\"1\" class=\"dataframe\">\n",
       "  <thead>\n",
       "    <tr style=\"text-align: right;\">\n",
       "      <th></th>\n",
       "      <th>rating</th>\n",
       "    </tr>\n",
       "  </thead>\n",
       "  <tbody>\n",
       "    <tr>\n",
       "      <th>5.0</th>\n",
       "      <td>0.699153</td>\n",
       "    </tr>\n",
       "    <tr>\n",
       "      <th>4.0</th>\n",
       "      <td>0.122881</td>\n",
       "    </tr>\n",
       "    <tr>\n",
       "      <th>3.0</th>\n",
       "      <td>0.084746</td>\n",
       "    </tr>\n",
       "    <tr>\n",
       "      <th>1.0</th>\n",
       "      <td>0.065678</td>\n",
       "    </tr>\n",
       "    <tr>\n",
       "      <th>2.0</th>\n",
       "      <td>0.027542</td>\n",
       "    </tr>\n",
       "  </tbody>\n",
       "</table>\n",
       "</div>"
      ],
      "text/plain": [
       "       rating\n",
       "5.0  0.699153\n",
       "4.0  0.122881\n",
       "3.0  0.084746\n",
       "1.0  0.065678\n",
       "2.0  0.027542"
      ]
     },
     "execution_count": 47,
     "metadata": {},
     "output_type": "execute_result"
    }
   ],
   "source": [
    "df[\"rating\"].value_counts(normalize=True).to_frame()"
   ]
  },
  {
   "cell_type": "code",
   "execution_count": 48,
   "metadata": {},
   "outputs": [
    {
     "data": {
      "text/html": [
       "<div>\n",
       "<style scoped>\n",
       "    .dataframe tbody tr th:only-of-type {\n",
       "        vertical-align: middle;\n",
       "    }\n",
       "\n",
       "    .dataframe tbody tr th {\n",
       "        vertical-align: top;\n",
       "    }\n",
       "\n",
       "    .dataframe thead th {\n",
       "        text-align: right;\n",
       "    }\n",
       "</style>\n",
       "<table border=\"1\" class=\"dataframe\">\n",
       "  <thead>\n",
       "    <tr style=\"text-align: right;\">\n",
       "      <th></th>\n",
       "      <th>category</th>\n",
       "    </tr>\n",
       "  </thead>\n",
       "  <tbody>\n",
       "    <tr>\n",
       "      <th>Home_and_Kitchen_5</th>\n",
       "      <td>472</td>\n",
       "    </tr>\n",
       "  </tbody>\n",
       "</table>\n",
       "</div>"
      ],
      "text/plain": [
       "                    category\n",
       "Home_and_Kitchen_5       472"
      ]
     },
     "execution_count": 48,
     "metadata": {},
     "output_type": "execute_result"
    }
   ],
   "source": [
    "df[\"category\"].value_counts().to_frame()"
   ]
  },
  {
   "cell_type": "markdown",
   "metadata": {},
   "source": [
    "## SPLITTING THE DATA"
   ]
  },
  {
   "cell_type": "code",
   "execution_count": 49,
   "metadata": {},
   "outputs": [
    {
     "name": "stdout",
     "output_type": "stream",
     "text": [
      "Number of rows:\n",
      "Entire dataset: 472\n",
      "Train dataset: 283\n",
      "Test dataset: 189\n"
     ]
    }
   ],
   "source": [
    "x_train, x_test, y_train, y_test = train_test_split(\n",
    "    df['text_'], df['label'],test_size=0.4, random_state=42) #40% gives best results, 42 is no of life...\n",
    "\n",
    "entiredf = format(df.shape[0])\n",
    "traindf = format(x_train.shape[0])\n",
    "testdf = format(x_test.shape[0])\n",
    "\n",
    "print('Number of rows:')\n",
    "print('Entire dataset:', entiredf)\n",
    "print('Train dataset:', traindf)\n",
    "print('Test dataset:',testdf)"
   ]
  },
  {
   "cell_type": "markdown",
   "metadata": {},
   "source": [
    "# Converting categorical into numerical(string to numbers)"
   ]
  },
  {
   "cell_type": "code",
   "execution_count": 50,
   "metadata": {},
   "outputs": [
    {
     "name": "stdout",
     "output_type": "stream",
     "text": [
      "\n",
      "Vocabulary: \n",
      " {'great': 252, 'just': 298, 'order': 386, 'longer': 324, 'size': 513, 'curtains': 140, 'weren': 649, 'wide': 652, 'expected': 197, 'expecting': 198, 'tighter': 590, 'curtain': 139, 'bought': 61, 'gift': 238, 'daughter': 146, 'loved': 331, 'little': 321, 'shorter': 508, 'try': 610, 'christmas': 97, 'product': 430, 'sturdy': 560, 'nice': 373, 'design': 156, 'works': 663, 'wooden': 659, 'cup': 137, 'couple': 132, 'light': 316, 'problem': 428, 'kind': 302, 'hard': 262, 'mentioned': 349, 'cord': 125, 'kinda': 303, 'small': 519, 'hose': 281, 'stiff': 549, 'beat': 43, 'time': 591, 'tested': 577, 'easy': 180, 'installation': 293, 'highly': 273, 'functional': 232, 'priced': 426, 'right': 468, 'doesn': 169, 'warm': 635, 'sitting': 512, 'hours': 283, 'happy': 261, 'quality': 442, 'merchandise': 350, 'speedy': 541, 'delivery': 154, 'bowl': 62, 'fast': 206, 'shipping': 507, 'place': 417, 'special': 539, 'photos': 408, 'wall': 631, 've': 626, 'weeks': 646, 'exactly': 194, 'advertised': 14, 'better': 52, 'original': 391, 'love': 330, 'blanket': 58, 'using': 619, 'second': 491, 'set': 497, 'glasses': 242, 'thought': 586, 'addition': 10, 'kitchen': 305, 'perfect': 404, 'touch': 601, 'thing': 583, 'wish': 655, 'space': 538, 'bottles': 60, 'wine': 654, 'freezer': 227, 'fresh': 228, 'comfortable': 109, 'lot': 329, 'use': 617, 'gave': 236, 'mother': 362, 'good': 247, 'really': 454, 'best': 51, 'friend': 229, 'elegant': 185, 'glass': 241, 'does': 168, 'improve': 291, 'taste': 572, 'did': 160, 'expect': 196, 'table': 567, 'thanks': 579, '5th': 4, 'knob': 308, 'end': 187, 'rod': 473, 'broke': 70, 'cool': 124, 'actually': 9, 'boyfriend': 65, 'charge': 95, 'kept': 301, 'day': 148, 'long': 323, 'looks': 327, 'make': 336, 'baby': 34, 'floral': 223, 'dead': 149, 'heading': 266, 'watering': 642, 'holds': 277, 'wrap': 666, 'tubes': 611, 'disappointing': 166, 'soft': 527, 'hesitation': 271, 'believe': 50, 'low': 334, 'price': 425, 'things': 584, 'speed': 540, 'worked': 661, 'excellent': 195, 'home': 278, 'tamales': 570, 'ok': 381, 'buying': 80, 'containers': 118, 'work': 660, 'look': 325, 'bags': 37, 'store': 553, 'noticed': 378, 'today': 596, 'bubbling': 73, 'like': 318, 'opener': 384, 'real': 453, 'hands': 258, 'job': 297, 'adorable': 12, 'takes': 569, 'mystery': 368, 'meat': 348, 'finished': 216, 'cooking': 123, 'loves': 333, 'way': 643, 'bed': 46, 'smoothie': 523, 'pillow': 414, 'saved': 482, 'feel': 210, 'cute': 142, 'fabric': 200, 'zippers': 674, 'used': 618, 'solo': 531, 'campfire': 84, 'stove': 554, 'hot': 282, 'cocoa': 103, 'finally': 213, 'fabulous': 201, 'cold': 105, 'drinks': 174, 'reason': 455, 'father': 207, 'needed': 371, 'granddaughter': 251, 'saw': 484, 'handle': 255, 'finish': 215, 'large': 311, 'buy': 79, 'quit': 445, 'working': 662, 'months': 361, 'purchased': 438, 'complements': 113, 'different': 163, 'color': 106, 'schemes': 488, 'vibrant': 627, 'boy': 64, 'fact': 202, 'turn': 612, 'feels': 211, 'super': 564, '10': 0, 'corners': 128, 'broken': 71, 'frame': 226, 'beautifully': 45, 'crafted': 135, 'picture': 410, 'fantastic': 204, 'wanted': 634, 'old': 382, 'suction': 562, 'cups': 138, 'removable': 462, 'difference': 162, 'pretty': 424, 'comments': 111, 'spoon': 543, 'waste': 640, 'money': 359, 'month': 360, 'notch': 377, 'artistry': 29, 'bust': 78, 'grand': 250, 'jesters': 296, 'studios': 558, 'difficult': 164, 'year': 670, 'arthritis': 28, 'wonderful': 657, 'shipped': 506, 'promptly': 434, 'ordered': 387, 'sets': 498, 'gifts': 239, 'haven': 264, 'totally': 600, 'unpacked': 615, 'styrofoam': 561, 'mom': 358, 'summer': 563, 'compact': 112, 'travel': 605, 'mug': 365, 'smells': 521, 'cracked': 134, 'bad': 35, 'don': 172, 'know': 309, 'beautiful': 44, 'sheets': 504, 'service': 496, 'arrived': 27, 'quickly': 443, 'promised': 433, 'lovely': 332, 'lamp': 310, 'calming': 82, 'sure': 566, 'high': 272, 'type': 613, 'smooth': 522, 'solid': 530, 'fits': 219, 'corelle': 126, 'years': 671, 'impressed': 290, 'bag': 36, 'durable': 176, 'white': 650, 'elephant': 186, 'liking': 319, 'handles': 257, 'bit': 55, 'thicker': 582, 'stronger': 557, 'reading': 452, 'reviews': 467, 'pitcher': 416, 'tea': 573, 'drip': 175, 'fit': 218, 'husbands': 287, 'amazing': 18, 'definitely': 153, 'thermal': 581, 'insulation': 294, 'helps': 270, 'food': 225, 'warmer': 636, 'oven': 394, 'mats': 344, 'overall': 395, '32': 2, 'oz': 396, 'ozark': 397, 'comes': 108, 'daughters': 147, 'rarely': 448, 'ac': 7, 'live': 322, 'humidity': 285, 'colors': 107, 'materials': 343, 'assemble': 30, 'described': 155, 'husband': 286, 'didn': 161, 'help': 269, 'new': 372, 'robot': 471, 'organizer': 389, 'utensils': 620, 'gets': 237, 'shampoo': 499, 'conditioner': 114, 'want': 633, 'shower': 509, 'sticks': 548, 'meal': 346, 'pho': 407, 'recommend': 458, 'mugs': 366, 'nicely': 374, 'shelves': 505, 'additional': 11, 'storage': 552, 'convenience': 119, 'vacuum': 621, 'think': 585, 'knives': 307, 'clock': 100, 'flaw': 221, 'read': 451, 'far': 205, 'weird': 647, 'smell': 520, 'unlike': 614, 'plastic': 418, 'liners': 320, 'need': 370, 'legs': 314, 'bedding': 47, 'cookie': 121, 'cutter': 143, 'perfectly': 406, 'bar': 38, 'rimming': 469, 'salt': 481, 'margaritas': 340, 'sleek': 515, 'received': 457, 'dialysis': 159, 'patient': 403, 'mudrooma': 364, 'towel': 602, 'rack': 447, 'projects': 432, 'blue': 59, 'opening': 385, 'yellow': 672, 'hold': 274, 'clothes': 101, 'stuff': 559, 'rub': 476, 'hangars': 259, 'clean': 98, 'purchasing': 439, 'guy': 254, 'toilet': 597, 'brush': 72, 'holders': 275, 'appear': 22, 'sent': 494, 'hanging': 260, 'wreath': 667, 'efficient': 182, 'secondary': 492, 'apartments': 21, 'reaching': 450, 'tight': 589, 'areas': 25, 'spices': 542, 'say': 485, 'oriental': 390, '60': 5, 'heavy': 267, 'everyday': 193, 'stars': 546, 'soften': 528, 'washing': 639, 'bedroom': 48, 'lunchbox': 335, 'preschooler': 423, 'plenty': 421, 'straws': 555, 'weak': 644, 'barely': 39, 'bring': 69, 'air': 16, 'movie': 363, 'took': 598, 'review': 466, 'quite': 446, 'pieces': 413, 'hooks': 279, 'ceiling': 92, 'wobbles': 656, 'sleeper': 516, 'sheet': 503, 'town': 604, 'runner': 478, 'antique': 20, 'packaging': 398, 'looking': 326, 'clear': 99, 'defective': 152, 'seal': 489, 'fix': 220, 'throw': 588, 'container': 117, 'returned': 465, 'ordering': 388, 'trundle': 609, 'snap': 525, 'solution': 532, 'sorting': 537, 'messes': 351, 'tools': 599, 'goes': 244, 'star': 545, 'quilts': 444, 'filter': 212, 'covers': 133, 'awesome': 33, 'rings': 470, 'gone': 246, 'destroyed': 158, 'ones': 383, 'bigger': 54, 'paper': 401, 'corner': 127, 'cabinet': 81, 'piece': 412, 'away': 32, 'tried': 607, 'candy': 86, 'buffet': 74, 'certainly': 93, 'multipurpose': 367, 'gorgeous': 248, 'industrial': 292, 'seller': 493, 'yes': 673, 'serves': 495, 'purpose': 440, 'aesthetically': 15, 'comforter': 110, 'especially': 191, 'burns': 77, 'hell': 268, 'temps': 575, 'slow': 518, 'toasting': 595, 'rye': 479, 'bread': 67, 'rock': 472, 'toasted': 594, 'big': 53, 'purchase': 437, 'mattress': 345, 'ccozinha': 90, 'term': 576, 'lightweight': 317, 'bowls': 63, 'larger': 312, 'numbers': 379, 'wife': 653, 'rough': 475, 'wash': 637, 'cloths': 102, 'towels': 603, 'tad': 568, 'loose': 328, '15': 1, 'makes': 337, 'stirring': 550, 'haul': 263, 'keeping': 299, 'slide': 517, 'doing': 171, 'laundry': 313, 'debris': 150, 'falls': 203, 'ends': 188, 'designed': 157, 'trouble': 608, 'threads': 587, 'socket': 526, 'bulbs': 75, 'aren': 26, 'sharp': 500, 'blade': 57, 'pie': 411, 'edges': 181, 'mind': 352, 'making': 338, 'crockpots': 136, 'variety': 625, 'mix': 355, 'favorite': 208, 'goloka': 245, 'nag': 369, 'champa': 94, 'pint': 415, 'strong': 556, 'vacuume': 622, 'world': 664, 'carpet': 88, 'icetrays': 289, 'release': 461, 'easier': 178, 'wrong': 669, 'decent': 151, 'seat': 490, 'scale': 487, 'accurate': 8, 'dishwasher': 167, 'area': 24, 'sooner': 535, 'american': 19, 'matching': 342, 'measuring': 347, 'ev': 192, 'garage': 235, 'cushion': 141, 'constructed': 116, 'easily': 179, 'washed': 638, 'item': 295, 'firm': 217, 'candles': 85, 'burn': 76, 'stopped': 551, 'waiting': 630, 'refund': 460, 'got': 249, 'dog': 170, 'son': 534, 'hygienic': 288, 'upgrade': 616, 'handled': 256, 'pans': 400, 'tipping': 593, 'sharpened': 501, 'knife': 306, 'house': 284, 'problems': 429, 'coffee': 104, 'pricey': 427, 'earlier': 177, 'staff': 544, 'holding': 276, 'fun': 231, 'alice': 17, 'wonderland': 658, 'themed': 580, 'party': 402, 'glad': 240, 'softer': 529, 'expensive': 199, 'model': 356, 'cart': 89, 'properly': 435, 'atrocious': 31, 'break': 68, 'pug': 436, 'treats': 606, 'lid': 315, 'says': 486, 'favorites': 209, 'equipment': 189, 'flimsy': 222, 'furniture': 233, 'blackout': 56, 'task': 571, 'dimensions': 165, 'pyrex': 441, 'sooooooo': 536, 'worth': 665, 'goblet': 243, 'fluid': 224, 'beer': 49, 'rug': 477, 'wear': 645, 'tear': 574, 'mismatched': 354, 'header': 265, 'vs': 628, 'recommended': 459, 'bathroom': 41, 'went': 648, 'dark': 145, 'absolutely': 6, 'adore': 13, 'wait': 629, 'batch': 40, 'walmart': 632, '50': 3, 'cotton': 130, 'king': 304, 'waterbed': 641, 'saver': 483, 'room': 474, 'battery': 42, 'brand': 66, 'play': 419, 'value': 623, 'renting': 463, 'choices': 96, 'stickers': 547, 'packed': 399, 'countertop': 131, 'drawer': 173, 'future': 234, 'car': 87, 'snake': 524, 'oil': 380, 'reorder': 464, 'rated': 449, 'whwn': 651, 'originally': 392, 'convenient': 120, 'perfection': 405, 'minimal': 353, 'effort': 183, 'froth': 230, 'pleased': 420, 'timely': 592, 'manner': 339, 'shown': 510, 'night': 375, 'noise': 376, 'variations': 624, 'cookies': 122, 'daily': 144, 'fine': 214, 'grill': 253, 'skinnier': 514, 'products': 431, 'connecting': 115, 'cctv': 91, 'power': 422, 'supply': 565, 'cameras': 83, 'moldy': 357, 'sheds': 502, 'keeps': 300, 'safe': 480, 'ergonomically': 190, 'correct': 129, 'pick': 409, 'ottoman': 393, 'simply': 511, 'thank': 578, 'egg': 184, 'masher': 341, 'somewhat': 533, 'hoped': 280, 'reasonably': 456, 'wrists': 668, 'appears': 23}\n"
     ]
    }
   ],
   "source": [
    "count_vectorizer  = CountVectorizer(stop_words='english')\n",
    "count_vectorizer.fit(x_train)\n",
    "print('\\nVocabulary: \\n', count_vectorizer.vocabulary_)\n",
    "\n",
    "train_A= count_vectorizer.fit_transform(x_train)\n",
    "test_B= count_vectorizer.transform(x_test)"
   ]
  },
  {
   "cell_type": "markdown",
   "metadata": {},
   "source": [
    "## LOGISTIC REGRESSION MODEL"
   ]
  },
  {
   "cell_type": "code",
   "execution_count": 51,
   "metadata": {},
   "outputs": [],
   "source": [
    "logistic = LogisticRegression()\n",
    "logistic.fit(train_A, y_train)\n",
    "prediction = logistic.predict(test_B)\n",
    "logisticaccuracy = accuracy_score(y_test, prediction)*100"
   ]
  },
  {
   "cell_type": "code",
   "execution_count": 52,
   "metadata": {},
   "outputs": [
    {
     "name": "stdout",
     "output_type": "stream",
     "text": [
      "classification report:               precision    recall  f1-score   support\n",
      "\n",
      "          CG       0.75      0.69      0.72        95\n",
      "          OR       0.71      0.77      0.74        94\n",
      "\n",
      "    accuracy                           0.73       189\n",
      "   macro avg       0.73      0.73      0.73       189\n",
      "weighted avg       0.73      0.73      0.73       189\n",
      "\n",
      "confusion matrix: [[66 29]\n",
      " [22 72]]\n",
      "Accuracy Score: 0.7301587301587301\n",
      "Model Prediction Accuracy: 73.02%\n"
     ]
    }
   ],
   "source": [
    "print('classification report:',classification_report(y_test,prediction))\n",
    "cm=confusion_matrix(y_test,prediction)\n",
    "print('confusion matrix:',cm)\n",
    "print('Accuracy Score:',accuracy_score(y_test,prediction))\n",
    "print('Model Prediction Accuracy:',str(np.round(accuracy_score(y_test,prediction)*100,2)) + '%')"
   ]
  },
  {
   "cell_type": "code",
   "execution_count": 65,
   "metadata": {},
   "outputs": [
    {
     "data": {
      "text/plain": [
       "<sklearn.metrics._plot.confusion_matrix.ConfusionMatrixDisplay at 0x251342bce80>"
      ]
     },
     "execution_count": 65,
     "metadata": {},
     "output_type": "execute_result"
    },
    {
     "data": {
      "image/png": "[encoded data removed]",
      "text/plain": [
       "<Figure size 640x480 with 2 Axes>"
      ]
     },
     "metadata": {},
     "output_type": "display_data"
    }
   ],
   "source": [
    "style.use('classic')\n",
    "cm = confusion_matrix(y_test, prediction, labels=logistic.classes_)\n",
    "disp = ConfusionMatrixDisplay(confusion_matrix=cm, display_labels=logistic.classes_)\n",
    "disp.plot()"
   ]
  },
  {
   "cell_type": "markdown",
   "metadata": {},
   "source": [
    "# SUPPORT VECTOR MACHINE(SVM)"
   ]
  },
  {
   "cell_type": "code",
   "execution_count": 53,
   "metadata": {},
   "outputs": [],
   "source": [
    "svm = SVC(kernel='linear')\n",
    "svm.fit(train_A, y_train)\n",
    "prediction1 = svm.predict(test_B)\n",
    "svmaccuracy=accuracy_score(y_test,prediction1)*100"
   ]
  },
  {
   "cell_type": "code",
   "execution_count": 54,
   "metadata": {},
   "outputs": [
    {
     "name": "stdout",
     "output_type": "stream",
     "text": [
      "classification report:               precision    recall  f1-score   support\n",
      "\n",
      "          CG       0.72      0.68      0.70        95\n",
      "          OR       0.70      0.73      0.72        94\n",
      "\n",
      "    accuracy                           0.71       189\n",
      "   macro avg       0.71      0.71      0.71       189\n",
      "weighted avg       0.71      0.71      0.71       189\n",
      "\n",
      "confusion matrix: [[65 30]\n",
      " [25 69]]\n",
      "Accuracy Score: 0.708994708994709\n",
      "Model Prediction Accuracy: 70.9%\n"
     ]
    }
   ],
   "source": [
    "print('classification report:',classification_report(y_test,prediction1))\n",
    "cm1=confusion_matrix(y_test,prediction1)\n",
    "print(\"confusion matrix:\",cm1)\n",
    "print('Accuracy Score:',accuracy_score(y_test,prediction1))\n",
    "print('Model Prediction Accuracy:',str(np.round(accuracy_score(y_test,prediction1)*100,2)) + '%')"
   ]
  },
  {
   "cell_type": "code",
   "execution_count": 71,
   "metadata": {},
   "outputs": [
    {
     "data": {
      "text/plain": [
       "<sklearn.metrics._plot.confusion_matrix.ConfusionMatrixDisplay at 0x251340aa780>"
      ]
     },
     "execution_count": 71,
     "metadata": {},
     "output_type": "execute_result"
    },
    {
     "data": {
      "image/png": "[encoded data removed]",
      "text/plain": [
       "<Figure size 640x480 with 2 Axes>"
      ]
     },
     "metadata": {},
     "output_type": "display_data"
    }
   ],
   "source": [
    "style.use('classic')\n",
    "cm = confusion_matrix(y_test, prediction1, labels=svm.classes_)\n",
    "disp = ConfusionMatrixDisplay(confusion_matrix=cm, display_labels=svm.classes_)\n",
    "disp.plot()"
   ]
  },
  {
   "cell_type": "markdown",
   "metadata": {},
   "source": [
    "## RANDOM FOREST"
   ]
  },
  {
   "cell_type": "code",
   "execution_count": 55,
   "metadata": {},
   "outputs": [],
   "source": [
    "rfc=RandomForestClassifier()\n",
    "rfc.fit(train_A,y_train)\n",
    "prediction2=rfc.predict(test_B)\n",
    "rfcaccuracy=accuracy_score(y_test,prediction2)*100"
   ]
  },
  {
   "cell_type": "code",
   "execution_count": 56,
   "metadata": {},
   "outputs": [
    {
     "name": "stdout",
     "output_type": "stream",
     "text": [
      "classification report:               precision    recall  f1-score   support\n",
      "\n",
      "          CG       0.82      0.59      0.69        95\n",
      "          OR       0.68      0.87      0.76        94\n",
      "\n",
      "    accuracy                           0.73       189\n",
      "   macro avg       0.75      0.73      0.72       189\n",
      "weighted avg       0.75      0.73      0.72       189\n",
      "\n",
      "confusion matrix: [[56 39]\n",
      " [12 82]]\n",
      "Accuracy Score: 0.7301587301587301\n",
      "Model Prediction Accuracy: 73.02%\n"
     ]
    }
   ],
   "source": [
    "print('classification report:',classification_report(y_test,prediction2))\n",
    "cm2=confusion_matrix(y_test,prediction2)\n",
    "print(\"confusion matrix:\",cm2)\n",
    "print('Accuracy Score:',accuracy_score(y_test,prediction2))\n",
    "print('Model Prediction Accuracy:',str(np.round(accuracy_score(y_test,prediction2)*100,2)) + '%')"
   ]
  },
  {
   "cell_type": "code",
   "execution_count": 68,
   "metadata": {},
   "outputs": [
    {
     "data": {
      "text/plain": [
       "<sklearn.metrics._plot.confusion_matrix.ConfusionMatrixDisplay at 0x251342bc940>"
      ]
     },
     "execution_count": 68,
     "metadata": {},
     "output_type": "execute_result"
    },
    {
     "data": {
      "image/png": "[encoded data removed]",
      "text/plain": [
       "<Figure size 640x480 with 2 Axes>"
      ]
     },
     "metadata": {},
     "output_type": "display_data"
    }
   ],
   "source": [
    "style.use('classic')\n",
    "cm = confusion_matrix(y_test, prediction2, labels=rfc.classes_)\n",
    "disp = ConfusionMatrixDisplay(confusion_matrix=cm, display_labels=rfc.classes_)\n",
    "disp.plot()"
   ]
  },
  {
   "cell_type": "markdown",
   "metadata": {},
   "source": [
    "## DECISION TREE"
   ]
  },
  {
   "cell_type": "code",
   "execution_count": 57,
   "metadata": {},
   "outputs": [],
   "source": [
    "dtree=DecisionTreeClassifier()\n",
    "dtree.fit(train_A,y_train)\n",
    "prediction3=dtree.predict(test_B)\n",
    "dtreeaccuracy=accuracy_score(y_test,prediction3)*100"
   ]
  },
  {
   "cell_type": "code",
   "execution_count": 58,
   "metadata": {},
   "outputs": [
    {
     "name": "stdout",
     "output_type": "stream",
     "text": [
      "classification report:               precision    recall  f1-score   support\n",
      "\n",
      "          CG       0.65      0.57      0.61        95\n",
      "          OR       0.61      0.69      0.65        94\n",
      "\n",
      "    accuracy                           0.63       189\n",
      "   macro avg       0.63      0.63      0.63       189\n",
      "weighted avg       0.63      0.63      0.63       189\n",
      "\n",
      "confusion matrix: [[54 41]\n",
      " [29 65]]\n",
      "Accuracy Score: 0.6296296296296297\n",
      "Model Prediction Accuracy: 62.96%\n"
     ]
    }
   ],
   "source": [
    "print('classification report:',classification_report(y_test,prediction3))\n",
    "cm3=confusion_matrix(y_test,prediction3)\n",
    "print(\"confusion matrix:\",cm3)\n",
    "print('Accuracy Score:',accuracy_score(y_test,prediction3))\n",
    "print('Model Prediction Accuracy:',str(np.round(accuracy_score(y_test,prediction3)*100,2)) + '%')"
   ]
  },
  {
   "cell_type": "code",
   "execution_count": 69,
   "metadata": {},
   "outputs": [
    {
     "data": {
      "text/plain": [
       "<sklearn.metrics._plot.confusion_matrix.ConfusionMatrixDisplay at 0x25133e42ba8>"
      ]
     },
     "execution_count": 69,
     "metadata": {},
     "output_type": "execute_result"
    },
    {
     "data": {
      "image/png": "[encoded data removed]",
      "text/plain": [
       "<Figure size 640x480 with 2 Axes>"
      ]
     },
     "metadata": {},
     "output_type": "display_data"
    }
   ],
   "source": [
    "style.use('classic')\n",
    "cm = confusion_matrix(y_test, prediction3, labels=dtree.classes_)\n",
    "disp = ConfusionMatrixDisplay(confusion_matrix=cm, display_labels=dtree.classes_)\n",
    "disp.plot()"
   ]
  },
  {
   "cell_type": "markdown",
   "metadata": {},
   "source": [
    "## K-NEIGHBORS"
   ]
  },
  {
   "cell_type": "code",
   "execution_count": 59,
   "metadata": {},
   "outputs": [],
   "source": [
    "knn=KNeighborsClassifier()\n",
    "knn.fit(train_A,y_train)\n",
    "prediction4=knn.predict(test_B)\n",
    "knnaccuracy=accuracy_score(y_test,prediction4)*100"
   ]
  },
  {
   "cell_type": "code",
   "execution_count": 60,
   "metadata": {},
   "outputs": [
    {
     "name": "stdout",
     "output_type": "stream",
     "text": [
      "classification report:               precision    recall  f1-score   support\n",
      "\n",
      "          CG       0.65      0.57      0.61        95\n",
      "          OR       0.61      0.69      0.65        94\n",
      "\n",
      "    accuracy                           0.63       189\n",
      "   macro avg       0.63      0.63      0.63       189\n",
      "weighted avg       0.63      0.63      0.63       189\n",
      "\n",
      "confusion matrix: [[49 46]\n",
      " [23 71]]\n",
      "Accuracy Score: 0.6349206349206349\n",
      "Model Prediction Accuracy: 63.49%\n"
     ]
    }
   ],
   "source": [
    "print('classification report:',classification_report(y_test,prediction3))\n",
    "cm4=confusion_matrix(y_test,prediction4)\n",
    "print(\"confusion matrix:\",cm4)\n",
    "print('Accuracy Score:',accuracy_score(y_test,prediction4))\n",
    "print('Model Prediction Accuracy:',str(np.round(accuracy_score(y_test,prediction4)*100,2)) + '%')"
   ]
  },
  {
   "cell_type": "code",
   "execution_count": 70,
   "metadata": {},
   "outputs": [
    {
     "data": {
      "text/plain": [
       "<sklearn.metrics._plot.confusion_matrix.ConfusionMatrixDisplay at 0x2513491f8d0>"
      ]
     },
     "execution_count": 70,
     "metadata": {},
     "output_type": "execute_result"
    },
    {
     "data": {
      "image/png": "[encoded data removed]",
      "text/plain": [
       "<Figure size 640x480 with 2 Axes>"
      ]
     },
     "metadata": {},
     "output_type": "display_data"
    }
   ],
   "source": [
    "style.use('classic')\n",
    "cm = confusion_matrix(y_test, prediction4, labels=knn.classes_)\n",
    "disp = ConfusionMatrixDisplay(confusion_matrix=cm, display_labels=knn.classes_)\n",
    "disp.plot()"
   ]
  },
  {
   "cell_type": "markdown",
   "metadata": {},
   "source": [
    "## CONCLUSION "
   ]
  },
  {
   "cell_type": "code",
   "execution_count": 61,
   "metadata": {},
   "outputs": [
    {
     "name": "stdout",
     "output_type": "stream",
     "text": [
      "Performance of various ML models:\n",
      "\n",
      "\n",
      "Logistic Regression Model Prediction Accuracy: 73.02%\n",
      "SVM Model Prediction Accuracy: 70.9%\n",
      "Random Forest Model Prediction Accuracy: 73.02%\n",
      "Decision Tree Model Prediction Accuracy: 62.96%\n",
      "K neighbors Model Prediction Accuracy: 63.49%\n"
     ]
    }
   ],
   "source": [
    "print('Performance of various ML models:')\n",
    "print('\\n')\n",
    "print('Logistic Regression Model Prediction Accuracy:',str(np.round(accuracy_score(y_test,prediction)*100,2)) + '%')\n",
    "print('SVM Model Prediction Accuracy:',str(np.round(accuracy_score(y_test,prediction1)*100,2)) + '%')\n",
    "print('Random Forest Model Prediction Accuracy:',str(np.round(accuracy_score(y_test,prediction2)*100,2)) + '%')\n",
    "print('Decision Tree Model Prediction Accuracy:',str(np.round(accuracy_score(y_test,prediction3)*100,2)) + '%')\n",
    "print('K neighbors Model Prediction Accuracy:',str(np.round(accuracy_score(y_test,prediction4)*100,2)) + '%')"
   ]
  },
  {
   "cell_type": "markdown",
   "metadata": {},
   "source": [
    "Logistic Regression,Support Vector Machine(SVM),Random Forest Models are the fastest way to detect the fake online reviews "
   ]
  },
  {
   "cell_type": "code",
   "execution_count": null,
   "metadata": {},
   "outputs": [],
   "source": []
  }
 ],
 "metadata": {
  "kernelspec": {
   "display_name": "Python 3 (ipykernel)",
   "language": "python",
   "name": "python3"
  },
  "language_info": {
   "codemirror_mode": {
    "name": "ipython",
    "version": 3
   },
   "file_extension": ".py",
   "mimetype": "text/x-python",
   "name": "python",
   "nbconvert_exporter": "python",
   "pygments_lexer": "ipython3",
   "version": "3.11.5"
  }
 },
 "nbformat": 4,
 "nbformat_minor": 2
}
